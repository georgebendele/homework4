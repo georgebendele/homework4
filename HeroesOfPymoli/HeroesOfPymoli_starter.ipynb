{
 "cells": [
  {
   "cell_type": "markdown",
   "metadata": {},
   "source": [
    "### Heroes Of Pymoli Data Analysis\n",
    "* Of the 1163 active players, the vast majority are male (84%). There also exists, a smaller, but notable proportion of female players (14%).\n",
    "\n",
    "* Our peak age demographic falls between 20-24 (44.8%) with secondary groups falling between 15-19 (18.60%) and 25-29 (13.4%).  \n",
    "-----"
   ]
  },
  {
   "cell_type": "code",
   "execution_count": 1,
   "metadata": {},
   "outputs": [],
   "source": [
    "# Dependencies and Setup\n",
    "import pandas as pd\n",
    "import numpy as np\n",
    "\n",
    "# File to Load (Remember to Change These)\n",
    "file_to_load = \"Resources/purchase_data.csv\"\n",
    "\n",
    "# Read Purchasing File and store into Pandas data frame\n",
    "purchase_data = pd.read_csv(file_to_load)"
   ]
  },
  {
   "cell_type": "code",
   "execution_count": 2,
   "metadata": {},
   "outputs": [],
   "source": [
    "#Create a data frame containing unique players\n",
    "players = pd.DataFrame(purchase_data[\"SN\"].unique())\n",
    "#Count unique players and return result in new data frame\n",
    "player_count = pd.DataFrame(players.count(), columns=[\"Total Players\"])"
   ]
  },
  {
   "cell_type": "code",
   "execution_count": 3,
   "metadata": {},
   "outputs": [
    {
     "data": {
      "text/html": [
       "<div>\n",
       "<style scoped>\n",
       "    .dataframe tbody tr th:only-of-type {\n",
       "        vertical-align: middle;\n",
       "    }\n",
       "\n",
       "    .dataframe tbody tr th {\n",
       "        vertical-align: top;\n",
       "    }\n",
       "\n",
       "    .dataframe thead th {\n",
       "        text-align: right;\n",
       "    }\n",
       "</style>\n",
       "<table border=\"1\" class=\"dataframe\">\n",
       "  <thead>\n",
       "    <tr style=\"text-align: right;\">\n",
       "      <th></th>\n",
       "      <th>Total Players</th>\n",
       "    </tr>\n",
       "  </thead>\n",
       "  <tbody>\n",
       "    <tr>\n",
       "      <th>0</th>\n",
       "      <td>576</td>\n",
       "    </tr>\n",
       "  </tbody>\n",
       "</table>\n",
       "</div>"
      ],
      "text/plain": [
       "   Total Players\n",
       "0            576"
      ]
     },
     "execution_count": 3,
     "metadata": {},
     "output_type": "execute_result"
    }
   ],
   "source": [
    "###Display Number of players\n",
    "player_count"
   ]
  },
  {
   "cell_type": "code",
   "execution_count": 4,
   "metadata": {},
   "outputs": [],
   "source": [
    "#Calculate the number of unique items\n",
    "num_of_unique_items = purchase_data[\"Item ID\"].nunique()"
   ]
  },
  {
   "cell_type": "code",
   "execution_count": 5,
   "metadata": {},
   "outputs": [],
   "source": [
    "#Calculate the average item price\n",
    "avg_price = float(purchase_data[\"Price\"].mean())"
   ]
  },
  {
   "cell_type": "code",
   "execution_count": 36,
   "metadata": {},
   "outputs": [
    {
     "data": {
      "text/plain": [
       "780"
      ]
     },
     "execution_count": 36,
     "metadata": {},
     "output_type": "execute_result"
    }
   ],
   "source": [
    "#Calculate the total number of purchases\n",
    "number_of_purchases = purchase_data[\"Purchase ID\"].count()"
   ]
  },
  {
   "cell_type": "code",
   "execution_count": 7,
   "metadata": {},
   "outputs": [],
   "source": [
    "#Calculate total revenue\n",
    "total_revenue = float(purchase_data[\"Price\"].sum())"
   ]
  },
  {
   "cell_type": "code",
   "execution_count": 8,
   "metadata": {},
   "outputs": [],
   "source": [
    "#Create a dataframe to hold results\n",
    "basic_calcs = pd.DataFrame([[num_of_unique_items, '${:,.2f}'.format(avg_price), \n",
    "               number_of_purchases, '${:,.2f}'.format(total_revenue)]], \n",
    "                           columns=[\"Number of Unique Items\", \"Average Price\", \n",
    "                                    \"Number of Purchases\", \"Total Revenue\"])\n"
   ]
  },
  {
   "cell_type": "code",
   "execution_count": 9,
   "metadata": {},
   "outputs": [
    {
     "data": {
      "text/html": [
       "<div>\n",
       "<style scoped>\n",
       "    .dataframe tbody tr th:only-of-type {\n",
       "        vertical-align: middle;\n",
       "    }\n",
       "\n",
       "    .dataframe tbody tr th {\n",
       "        vertical-align: top;\n",
       "    }\n",
       "\n",
       "    .dataframe thead th {\n",
       "        text-align: right;\n",
       "    }\n",
       "</style>\n",
       "<table border=\"1\" class=\"dataframe\">\n",
       "  <thead>\n",
       "    <tr style=\"text-align: right;\">\n",
       "      <th></th>\n",
       "      <th>Number of Unique Items</th>\n",
       "      <th>Average Price</th>\n",
       "      <th>Number of Purchases</th>\n",
       "      <th>Total Revenue</th>\n",
       "    </tr>\n",
       "  </thead>\n",
       "  <tbody>\n",
       "    <tr>\n",
       "      <th>0</th>\n",
       "      <td>183</td>\n",
       "      <td>$3.05</td>\n",
       "      <td>780</td>\n",
       "      <td>$2,379.77</td>\n",
       "    </tr>\n",
       "  </tbody>\n",
       "</table>\n",
       "</div>"
      ],
      "text/plain": [
       "   Number of Unique Items Average Price  Number of Purchases Total Revenue\n",
       "0                     183         $3.05                  780     $2,379.77"
      ]
     },
     "execution_count": 9,
     "metadata": {},
     "output_type": "execute_result"
    }
   ],
   "source": [
    "###Display the summary data frame\n",
    "basic_calcs"
   ]
  },
  {
   "cell_type": "code",
   "execution_count": 10,
   "metadata": {},
   "outputs": [],
   "source": [
    "#Create a data frame containing the gender counts for the unique players\n",
    "gender_df = pd.DataFrame(purchase_data.groupby([\"Gender\"])[\"SN\"].nunique())\n",
    "#Resort on highest to lowest total count\n",
    "gender_df = gender_df.sort_values(\"SN\", ascending = False)\n",
    "#Rename SN column to Total Count\n",
    "gender_df = gender_df.rename(columns={\"SN\": \"Total Count\"})"
   ]
  },
  {
   "cell_type": "code",
   "execution_count": 11,
   "metadata": {},
   "outputs": [],
   "source": [
    "#Reset index for later data frame merging\n",
    "gender_df = gender_df.reset_index()"
   ]
  },
  {
   "cell_type": "code",
   "execution_count": 12,
   "metadata": {},
   "outputs": [],
   "source": [
    "#Get clean player count\n",
    "num_plays = purchase_data[\"SN\"].nunique()\n",
    "#Set list variable for gender percent results\n",
    "gender_percent = []\n",
    "#Iterate through gender to calculate and store percents\n",
    "for sex in gender_df[\"Total Count\"]:\n",
    "    gender_percent.append(round((sex/num_plays)*100,2))"
   ]
  },
  {
   "cell_type": "code",
   "execution_count": 13,
   "metadata": {},
   "outputs": [],
   "source": [
    "#Create data frame with gender percent results\n",
    "genper_df = pd.DataFrame(gender_percent)\n",
    "#Reset index for merging\n",
    "genper_df.reset_index()\n",
    "#Name column\n",
    "genper_df.columns = [\"Percentage of Players\"]"
   ]
  },
  {
   "cell_type": "code",
   "execution_count": 14,
   "metadata": {},
   "outputs": [],
   "source": [
    "#Merge datata frames and reset index to Gender\n",
    "new_gender_df = pd.merge(gender_df, genper_df, left_index=True, right_index=True)\n",
    "new_gender_df = new_gender_df.set_index([\"Gender\"])\n"
   ]
  },
  {
   "cell_type": "code",
   "execution_count": 15,
   "metadata": {},
   "outputs": [
    {
     "data": {
      "text/html": [
       "<div>\n",
       "<style scoped>\n",
       "    .dataframe tbody tr th:only-of-type {\n",
       "        vertical-align: middle;\n",
       "    }\n",
       "\n",
       "    .dataframe tbody tr th {\n",
       "        vertical-align: top;\n",
       "    }\n",
       "\n",
       "    .dataframe thead th {\n",
       "        text-align: right;\n",
       "    }\n",
       "</style>\n",
       "<table border=\"1\" class=\"dataframe\">\n",
       "  <thead>\n",
       "    <tr style=\"text-align: right;\">\n",
       "      <th></th>\n",
       "      <th>Total Count</th>\n",
       "      <th>Percentage of Players</th>\n",
       "    </tr>\n",
       "    <tr>\n",
       "      <th>Gender</th>\n",
       "      <th></th>\n",
       "      <th></th>\n",
       "    </tr>\n",
       "  </thead>\n",
       "  <tbody>\n",
       "    <tr>\n",
       "      <th>Male</th>\n",
       "      <td>484</td>\n",
       "      <td>84.03</td>\n",
       "    </tr>\n",
       "    <tr>\n",
       "      <th>Female</th>\n",
       "      <td>81</td>\n",
       "      <td>14.06</td>\n",
       "    </tr>\n",
       "    <tr>\n",
       "      <th>Other / Non-Disclosed</th>\n",
       "      <td>11</td>\n",
       "      <td>1.91</td>\n",
       "    </tr>\n",
       "  </tbody>\n",
       "</table>\n",
       "</div>"
      ],
      "text/plain": [
       "                       Total Count  Percentage of Players\n",
       "Gender                                                   \n",
       "Male                           484                  84.03\n",
       "Female                          81                  14.06\n",
       "Other / Non-Disclosed           11                   1.91"
      ]
     },
     "execution_count": 15,
     "metadata": {},
     "output_type": "execute_result"
    }
   ],
   "source": [
    "###Display Gender Demographics\n",
    "new_gender_df"
   ]
  },
  {
   "cell_type": "code",
   "execution_count": 16,
   "metadata": {},
   "outputs": [],
   "source": [
    "#Get counts by Gender\n",
    "purchase_count = purchase_data.groupby(\"Gender\").count()"
   ]
  },
  {
   "cell_type": "code",
   "execution_count": 17,
   "metadata": {},
   "outputs": [],
   "source": [
    "#Get means by Gender\n",
    "price_mean = purchase_data.groupby(\"Gender\").mean()"
   ]
  },
  {
   "cell_type": "code",
   "execution_count": 18,
   "metadata": {},
   "outputs": [],
   "source": [
    "#Get sums by Gender\n",
    "price_sum = purchase_data.groupby(\"Gender\").sum()"
   ]
  },
  {
   "cell_type": "code",
   "execution_count": 19,
   "metadata": {},
   "outputs": [],
   "source": [
    "#Create new data frame with count, mean, and sum data\n",
    "gender_analysis_df = pd.DataFrame({\"Purchase Count\" : purchase_count[\"Purchase ID\"], \n",
    "              \"Average Purchase Price\" : price_mean[\"Price\"], \n",
    "              \"Total Purchase Value\" : price_sum[\"Price\"]})\n"
   ]
  },
  {
   "cell_type": "code",
   "execution_count": 20,
   "metadata": {},
   "outputs": [],
   "source": [
    "#Add calculate and column for Avg Total Purchase per Person\n",
    "gender_analysis_df[\"Avg Total Purchase per Person\"] = gender_analysis_df[\"Total Purchase Value\"]/new_gender_df[\"Total Count\"]"
   ]
  },
  {
   "cell_type": "code",
   "execution_count": 21,
   "metadata": {},
   "outputs": [
    {
     "data": {
      "text/html": [
       "<style  type=\"text/css\" >\n",
       "</style>  \n",
       "<table id=\"T_3218b67c_356c_11e9_b857_8c8590caa406\" > \n",
       "<thead>    <tr> \n",
       "        <th class=\"blank level0\" ></th> \n",
       "        <th class=\"col_heading level0 col0\" >Purchase Count</th> \n",
       "        <th class=\"col_heading level0 col1\" >Average Purchase Price</th> \n",
       "        <th class=\"col_heading level0 col2\" >Total Purchase Value</th> \n",
       "        <th class=\"col_heading level0 col3\" >Avg Total Purchase per Person</th> \n",
       "    </tr>    <tr> \n",
       "        <th class=\"index_name level0\" >Gender</th> \n",
       "        <th class=\"blank\" ></th> \n",
       "        <th class=\"blank\" ></th> \n",
       "        <th class=\"blank\" ></th> \n",
       "        <th class=\"blank\" ></th> \n",
       "    </tr></thead> \n",
       "<tbody>    <tr> \n",
       "        <th id=\"T_3218b67c_356c_11e9_b857_8c8590caa406level0_row0\" class=\"row_heading level0 row0\" >Female</th> \n",
       "        <td id=\"T_3218b67c_356c_11e9_b857_8c8590caa406row0_col0\" class=\"data row0 col0\" >113</td> \n",
       "        <td id=\"T_3218b67c_356c_11e9_b857_8c8590caa406row0_col1\" class=\"data row0 col1\" >$3.20</td> \n",
       "        <td id=\"T_3218b67c_356c_11e9_b857_8c8590caa406row0_col2\" class=\"data row0 col2\" >$361.94</td> \n",
       "        <td id=\"T_3218b67c_356c_11e9_b857_8c8590caa406row0_col3\" class=\"data row0 col3\" >$4.47</td> \n",
       "    </tr>    <tr> \n",
       "        <th id=\"T_3218b67c_356c_11e9_b857_8c8590caa406level0_row1\" class=\"row_heading level0 row1\" >Male</th> \n",
       "        <td id=\"T_3218b67c_356c_11e9_b857_8c8590caa406row1_col0\" class=\"data row1 col0\" >652</td> \n",
       "        <td id=\"T_3218b67c_356c_11e9_b857_8c8590caa406row1_col1\" class=\"data row1 col1\" >$3.02</td> \n",
       "        <td id=\"T_3218b67c_356c_11e9_b857_8c8590caa406row1_col2\" class=\"data row1 col2\" >$1,967.64</td> \n",
       "        <td id=\"T_3218b67c_356c_11e9_b857_8c8590caa406row1_col3\" class=\"data row1 col3\" >$4.07</td> \n",
       "    </tr>    <tr> \n",
       "        <th id=\"T_3218b67c_356c_11e9_b857_8c8590caa406level0_row2\" class=\"row_heading level0 row2\" >Other / Non-Disclosed</th> \n",
       "        <td id=\"T_3218b67c_356c_11e9_b857_8c8590caa406row2_col0\" class=\"data row2 col0\" >15</td> \n",
       "        <td id=\"T_3218b67c_356c_11e9_b857_8c8590caa406row2_col1\" class=\"data row2 col1\" >$3.35</td> \n",
       "        <td id=\"T_3218b67c_356c_11e9_b857_8c8590caa406row2_col2\" class=\"data row2 col2\" >$50.19</td> \n",
       "        <td id=\"T_3218b67c_356c_11e9_b857_8c8590caa406row2_col3\" class=\"data row2 col3\" >$4.56</td> \n",
       "    </tr></tbody> \n",
       "</table> "
      ],
      "text/plain": [
       "<pandas.io.formats.style.Styler at 0x116ff8160>"
      ]
     },
     "execution_count": 21,
     "metadata": {},
     "output_type": "execute_result"
    }
   ],
   "source": [
    "###Display Gender Purchasing Analysis\n",
    "gender_analysis_df.style.format({\"Average Purchase Price\":'${:,.2f}', \n",
    "                                 \"Total Purchase Value\":'${:,.2f}',\n",
    "                               \"Avg Total Purchase per Person\": '${:,.2f}'})\n"
   ]
  },
  {
   "cell_type": "code",
   "execution_count": 44,
   "metadata": {},
   "outputs": [],
   "source": [
    "#Create bins and labels\n",
    "bins = [0, 9, 14, 19, 24, 29, 34, 39, np.inf]\n",
    "labels = [\"<10\", \"10-14\", \"15-19\", \"20-24\", \"25-29\", \"30-34\", \"35-39\", \">40\"]"
   ]
  },
  {
   "cell_type": "code",
   "execution_count": 46,
   "metadata": {},
   "outputs": [],
   "source": [
    "#Add Age Range column to purchase data df\n",
    "purchase_data[\"Age Range\"] = pd.cut(purchase_data[\"Age\"], bins, labels = labels)"
   ]
  },
  {
   "cell_type": "code",
   "execution_count": 47,
   "metadata": {},
   "outputs": [],
   "source": [
    "#Create new data frame containing only player age data\n",
    "player_ages_df = pd.DataFrame({\"Player\" : purchase_data[\"SN\"], \n",
    "                               \"Age\" : purchase_data[\"Age\"], \n",
    "                               \"Age Range\" : purchase_data[\"Age Range\"]})"
   ]
  },
  {
   "cell_type": "code",
   "execution_count": 48,
   "metadata": {},
   "outputs": [],
   "source": [
    "#Drop duplicate players\n",
    "player_ages_df.drop_duplicates(\"Player\", inplace = True)"
   ]
  },
  {
   "cell_type": "code",
   "execution_count": 49,
   "metadata": {},
   "outputs": [],
   "source": [
    "#Create new data frame with counts per age range\n",
    "age_demo_df = pd.DataFrame(player_ages_df.groupby(\"Age Range\").count())\n",
    "age_demo_df = pd.DataFrame(age_demo_df[\"Age\"])\n",
    "#Change column name to Total Count\n",
    "age_demo_df = age_demo_df.rename(columns = {\"Age\" : \"Total Count\"})\n",
    "#Calculate and format percentage of players per age\n",
    "age_demo_df[\"Percentage of Players\"] = (age_demo_df[\"Total Count\"]/num_plays)*100\n",
    "age_demo_df = age_demo_df.style.format({\"Percentage of Players\":'{:,.2f}'})"
   ]
  },
  {
   "cell_type": "code",
   "execution_count": 50,
   "metadata": {},
   "outputs": [
    {
     "data": {
      "text/html": [
       "<style  type=\"text/css\" >\n",
       "</style>  \n",
       "<table id=\"T_e70b79ce_356d_11e9_b857_8c8590caa406\" > \n",
       "<thead>    <tr> \n",
       "        <th class=\"blank level0\" ></th> \n",
       "        <th class=\"col_heading level0 col0\" >Total Count</th> \n",
       "        <th class=\"col_heading level0 col1\" >Percentage of Players</th> \n",
       "    </tr>    <tr> \n",
       "        <th class=\"index_name level0\" >Age Range</th> \n",
       "        <th class=\"blank\" ></th> \n",
       "        <th class=\"blank\" ></th> \n",
       "    </tr></thead> \n",
       "<tbody>    <tr> \n",
       "        <th id=\"T_e70b79ce_356d_11e9_b857_8c8590caa406level0_row0\" class=\"row_heading level0 row0\" ><10</th> \n",
       "        <td id=\"T_e70b79ce_356d_11e9_b857_8c8590caa406row0_col0\" class=\"data row0 col0\" >17</td> \n",
       "        <td id=\"T_e70b79ce_356d_11e9_b857_8c8590caa406row0_col1\" class=\"data row0 col1\" >2.95</td> \n",
       "    </tr>    <tr> \n",
       "        <th id=\"T_e70b79ce_356d_11e9_b857_8c8590caa406level0_row1\" class=\"row_heading level0 row1\" >10-14</th> \n",
       "        <td id=\"T_e70b79ce_356d_11e9_b857_8c8590caa406row1_col0\" class=\"data row1 col0\" >22</td> \n",
       "        <td id=\"T_e70b79ce_356d_11e9_b857_8c8590caa406row1_col1\" class=\"data row1 col1\" >3.82</td> \n",
       "    </tr>    <tr> \n",
       "        <th id=\"T_e70b79ce_356d_11e9_b857_8c8590caa406level0_row2\" class=\"row_heading level0 row2\" >15-19</th> \n",
       "        <td id=\"T_e70b79ce_356d_11e9_b857_8c8590caa406row2_col0\" class=\"data row2 col0\" >107</td> \n",
       "        <td id=\"T_e70b79ce_356d_11e9_b857_8c8590caa406row2_col1\" class=\"data row2 col1\" >18.58</td> \n",
       "    </tr>    <tr> \n",
       "        <th id=\"T_e70b79ce_356d_11e9_b857_8c8590caa406level0_row3\" class=\"row_heading level0 row3\" >20-24</th> \n",
       "        <td id=\"T_e70b79ce_356d_11e9_b857_8c8590caa406row3_col0\" class=\"data row3 col0\" >258</td> \n",
       "        <td id=\"T_e70b79ce_356d_11e9_b857_8c8590caa406row3_col1\" class=\"data row3 col1\" >44.79</td> \n",
       "    </tr>    <tr> \n",
       "        <th id=\"T_e70b79ce_356d_11e9_b857_8c8590caa406level0_row4\" class=\"row_heading level0 row4\" >25-29</th> \n",
       "        <td id=\"T_e70b79ce_356d_11e9_b857_8c8590caa406row4_col0\" class=\"data row4 col0\" >77</td> \n",
       "        <td id=\"T_e70b79ce_356d_11e9_b857_8c8590caa406row4_col1\" class=\"data row4 col1\" >13.37</td> \n",
       "    </tr>    <tr> \n",
       "        <th id=\"T_e70b79ce_356d_11e9_b857_8c8590caa406level0_row5\" class=\"row_heading level0 row5\" >30-34</th> \n",
       "        <td id=\"T_e70b79ce_356d_11e9_b857_8c8590caa406row5_col0\" class=\"data row5 col0\" >52</td> \n",
       "        <td id=\"T_e70b79ce_356d_11e9_b857_8c8590caa406row5_col1\" class=\"data row5 col1\" >9.03</td> \n",
       "    </tr>    <tr> \n",
       "        <th id=\"T_e70b79ce_356d_11e9_b857_8c8590caa406level0_row6\" class=\"row_heading level0 row6\" >35-39</th> \n",
       "        <td id=\"T_e70b79ce_356d_11e9_b857_8c8590caa406row6_col0\" class=\"data row6 col0\" >31</td> \n",
       "        <td id=\"T_e70b79ce_356d_11e9_b857_8c8590caa406row6_col1\" class=\"data row6 col1\" >5.38</td> \n",
       "    </tr>    <tr> \n",
       "        <th id=\"T_e70b79ce_356d_11e9_b857_8c8590caa406level0_row7\" class=\"row_heading level0 row7\" >>40</th> \n",
       "        <td id=\"T_e70b79ce_356d_11e9_b857_8c8590caa406row7_col0\" class=\"data row7 col0\" >12</td> \n",
       "        <td id=\"T_e70b79ce_356d_11e9_b857_8c8590caa406row7_col1\" class=\"data row7 col1\" >2.08</td> \n",
       "    </tr></tbody> \n",
       "</table> "
      ],
      "text/plain": [
       "<pandas.io.formats.style.Styler at 0x1186d3a58>"
      ]
     },
     "execution_count": 50,
     "metadata": {},
     "output_type": "execute_result"
    }
   ],
   "source": [
    "###Display Age Demographics\n",
    "age_demo_df"
   ]
  },
  {
   "cell_type": "markdown",
   "metadata": {},
   "source": [
    "## Purchasing Analysis (Age)"
   ]
  },
  {
   "cell_type": "markdown",
   "metadata": {},
   "source": [
    "* Bin the purchase_data data frame by age\n",
    "\n",
    "\n",
    "* Run basic calculations to obtain purchase count, avg. purchase price, avg. purchase total per person etc. in the table below\n",
    "\n",
    "\n",
    "* Create a summary data frame to hold the results\n",
    "\n",
    "\n",
    "* Optional: give the displayed data cleaner formatting\n",
    "\n",
    "\n",
    "* Display the summary data frame"
   ]
  },
  {
   "cell_type": "code",
   "execution_count": 58,
   "metadata": {},
   "outputs": [
    {
     "data": {
      "text/html": [
       "<div>\n",
       "<style scoped>\n",
       "    .dataframe tbody tr th:only-of-type {\n",
       "        vertical-align: middle;\n",
       "    }\n",
       "\n",
       "    .dataframe tbody tr th {\n",
       "        vertical-align: top;\n",
       "    }\n",
       "\n",
       "    .dataframe thead th {\n",
       "        text-align: right;\n",
       "    }\n",
       "</style>\n",
       "<table border=\"1\" class=\"dataframe\">\n",
       "  <thead>\n",
       "    <tr style=\"text-align: right;\">\n",
       "      <th></th>\n",
       "      <th>Purchase ID</th>\n",
       "      <th>Age</th>\n",
       "      <th>Item ID</th>\n",
       "      <th>Price</th>\n",
       "    </tr>\n",
       "    <tr>\n",
       "      <th>Age Range</th>\n",
       "      <th></th>\n",
       "      <th></th>\n",
       "      <th></th>\n",
       "      <th></th>\n",
       "    </tr>\n",
       "  </thead>\n",
       "  <tbody>\n",
       "    <tr>\n",
       "      <th>&lt;10</th>\n",
       "      <td>435.173913</td>\n",
       "      <td>7.869565</td>\n",
       "      <td>105.956522</td>\n",
       "      <td>3.353478</td>\n",
       "    </tr>\n",
       "    <tr>\n",
       "      <th>10-14</th>\n",
       "      <td>361.214286</td>\n",
       "      <td>11.392857</td>\n",
       "      <td>103.107143</td>\n",
       "      <td>2.956429</td>\n",
       "    </tr>\n",
       "    <tr>\n",
       "      <th>15-19</th>\n",
       "      <td>403.375000</td>\n",
       "      <td>16.794118</td>\n",
       "      <td>94.102941</td>\n",
       "      <td>3.035956</td>\n",
       "    </tr>\n",
       "    <tr>\n",
       "      <th>20-24</th>\n",
       "      <td>382.391781</td>\n",
       "      <td>21.838356</td>\n",
       "      <td>88.797260</td>\n",
       "      <td>3.052219</td>\n",
       "    </tr>\n",
       "    <tr>\n",
       "      <th>25-29</th>\n",
       "      <td>406.653465</td>\n",
       "      <td>26.000000</td>\n",
       "      <td>90.554455</td>\n",
       "      <td>2.900990</td>\n",
       "    </tr>\n",
       "    <tr>\n",
       "      <th>30-34</th>\n",
       "      <td>359.643836</td>\n",
       "      <td>31.383562</td>\n",
       "      <td>94.178082</td>\n",
       "      <td>2.931507</td>\n",
       "    </tr>\n",
       "    <tr>\n",
       "      <th>35-39</th>\n",
       "      <td>404.780488</td>\n",
       "      <td>36.707317</td>\n",
       "      <td>100.902439</td>\n",
       "      <td>3.601707</td>\n",
       "    </tr>\n",
       "    <tr>\n",
       "      <th>&gt;40</th>\n",
       "      <td>410.230769</td>\n",
       "      <td>41.538462</td>\n",
       "      <td>89.076923</td>\n",
       "      <td>2.941538</td>\n",
       "    </tr>\n",
       "  </tbody>\n",
       "</table>\n",
       "</div>"
      ],
      "text/plain": [
       "           Purchase ID        Age     Item ID     Price\n",
       "Age Range                                              \n",
       "<10         435.173913   7.869565  105.956522  3.353478\n",
       "10-14       361.214286  11.392857  103.107143  2.956429\n",
       "15-19       403.375000  16.794118   94.102941  3.035956\n",
       "20-24       382.391781  21.838356   88.797260  3.052219\n",
       "25-29       406.653465  26.000000   90.554455  2.900990\n",
       "30-34       359.643836  31.383562   94.178082  2.931507\n",
       "35-39       404.780488  36.707317  100.902439  3.601707\n",
       ">40         410.230769  41.538462   89.076923  2.941538"
      ]
     },
     "execution_count": 58,
     "metadata": {},
     "output_type": "execute_result"
    }
   ],
   "source": [
    "purchase_data.groupby(\"Age Range\").count()\n",
    "purchase_data.groupby(\"Age Range\").mean()"
   ]
  },
  {
   "cell_type": "markdown",
   "metadata": {},
   "source": [
    "## Top Spenders"
   ]
  },
  {
   "cell_type": "markdown",
   "metadata": {},
   "source": [
    "* Run basic calculations to obtain the results in the table below\n",
    "\n",
    "\n",
    "* Create a summary data frame to hold the results\n",
    "\n",
    "\n",
    "* Sort the total purchase value column in descending order\n",
    "\n",
    "\n",
    "* Optional: give the displayed data cleaner formatting\n",
    "\n",
    "\n",
    "* Display a preview of the summary data frame\n",
    "\n"
   ]
  },
  {
   "cell_type": "code",
   "execution_count": null,
   "metadata": {},
   "outputs": [],
   "source": []
  },
  {
   "cell_type": "markdown",
   "metadata": {},
   "source": [
    "## Most Popular Items"
   ]
  },
  {
   "cell_type": "markdown",
   "metadata": {},
   "source": [
    "* Retrieve the Item ID, Item Name, and Item Price columns\n",
    "\n",
    "\n",
    "* Group by Item ID and Item Name. Perform calculations to obtain purchase count, item price, and total purchase value\n",
    "\n",
    "\n",
    "* Create a summary data frame to hold the results\n",
    "\n",
    "\n",
    "* Sort the purchase count column in descending order\n",
    "\n",
    "\n",
    "* Optional: give the displayed data cleaner formatting\n",
    "\n",
    "\n",
    "* Display a preview of the summary data frame\n",
    "\n"
   ]
  },
  {
   "cell_type": "code",
   "execution_count": null,
   "metadata": {},
   "outputs": [],
   "source": []
  },
  {
   "cell_type": "markdown",
   "metadata": {},
   "source": [
    "## Most Profitable Items"
   ]
  },
  {
   "cell_type": "markdown",
   "metadata": {},
   "source": [
    "* Sort the above table by total purchase value in descending order\n",
    "\n",
    "\n",
    "* Optional: give the displayed data cleaner formatting\n",
    "\n",
    "\n",
    "* Display a preview of the data frame\n",
    "\n"
   ]
  },
  {
   "cell_type": "code",
   "execution_count": null,
   "metadata": {
    "scrolled": true
   },
   "outputs": [],
   "source": []
  }
 ],
 "metadata": {
  "anaconda-cloud": {},
  "kernel_info": {
   "name": "python3"
  },
  "kernelspec": {
   "display_name": "Python 3",
   "language": "python",
   "name": "python3"
  },
  "language_info": {
   "codemirror_mode": {
    "name": "ipython",
    "version": 3
   },
   "file_extension": ".py",
   "mimetype": "text/x-python",
   "name": "python",
   "nbconvert_exporter": "python",
   "pygments_lexer": "ipython3",
   "version": "3.7.2"
  },
  "nteract": {
   "version": "0.2.0"
  }
 },
 "nbformat": 4,
 "nbformat_minor": 2
}
